{
 "cells": [
  {
   "cell_type": "markdown",
   "metadata": {},
   "source": [
    "# Twitter Sentiment Analysis\n",
    "\n",
    "## Introduction\n",
    "\n",
    "Our project is a sentiment analysis using Twitter data centered around the 2016 Presidential election. We aim to analyze geotagged tweets from different states in the United States to determine how happy or unhappy each state is. In addition, we aim to explore how the sentiment of each state compares to its political leanings and see if there were any changes before and after the election."
   ]
  },
  {
   "cell_type": "markdown",
   "metadata": {},
   "source": [
    "This analysis will be organized as follows:\n",
    "\n",
    "- [Data Scraping](#Data-scraping)\n",
    "- [Data Analysis](#Data-analysis)"
   ]
  },
  {
   "cell_type": "markdown",
   "metadata": {},
   "source": [
    "## Data Scraping\n",
    "\n",
    "To scrape the data from twitter we used Twint (Twitter Intelligence Tool), an advanced twitter scraper that allowed us to fetch tweets for specific time periods and tweets that related to specific topics and trends. The benefits of using Twint as opposed to Twitter's API are that Twitter's API only allows people to fetch tweets from the past 7 days and limits the number of tweets to 3200 tweets. In addition, Twint is not rate limited and does not require a Twitter account.\n",
    "\n"
   ]
  },
  {
   "cell_type": "code",
   "execution_count": 2,
   "metadata": {
    "collapsed": true
   },
   "outputs": [],
   "source": [
    "import twint"
   ]
  },
  {
   "cell_type": "code",
   "execution_count": 26,
   "metadata": {
    "collapsed": false
   },
   "outputs": [
    {
     "name": "stdout",
     "output_type": "stream",
     "text": [
      "Tweet: @ABCPolitics ABC news is so biased they have totally lost touch with reality with regard to the election. You should report NEWS equally!!!! | Location: \n",
      "Tweet: @ABCPolitics ABC news is so biased they have totally lost touch with reality with regard to the election. You should report NEWS equally!!!! | Location: \n",
      "Tweet: When you awake, it will be primary election date.  PTL will not have to watch the worthless commercials for a while. pic.twitter.com/LeiYAEuxcx | Location: CharlestonWV\n",
      "Tweet: #berniesanders #stillsanders #bernie #bernieorbust #sanders #potus #election #election2016…  https://www.instagram.com/p/BFFR-RQRwr8/  | Location: Charleston, WV\n",
      "Tweet: Election School! Excited to actually get to work in my home precinct for the first time. Hope everyone gets out...  https://www.swarmapp.com/c/eiocCb3Twk8  | Location: Charleston, WV\n",
      "[+] Finished: Successfully collected 6 Tweets.\n"
     ]
    },
    {
     "data": {
      "text/plain": [
       "<twint.search.Search at 0x1099c9f98>"
      ]
     },
     "execution_count": 26,
     "metadata": {},
     "output_type": "execute_result"
    }
   ],
   "source": [
    "# Configure\n",
    "c = twint.Config()\n",
    "\n",
    "# 6 months before election\n",
    "c.Since = \"2016-05-08\"\n",
    "c.Until = \"2016-11-07\"\n",
    "\n",
    "# tweets mentioning the election\n",
    "c.Search = \"election\"\n",
    "\n",
    "c.Format = \"Tweet: {tweet} | Location: {location}\"\n",
    "c.Location = True\n",
    "c.Count = True\n",
    "c.Geo = '40.0024137,-75.2581183,50km'\n",
    "\n",
    "# export to csv\n",
    "c.Store_csv = True\n",
    "c.Custom_csv = [\"date\", \"user_id\", \"location\", \"tweet\"]\n",
    "c.Output = \"pa_before.csv\"\n",
    "\n",
    "# Run\n",
    "twint.Search(c)"
   ]
  },
  {
   "cell_type": "code",
   "execution_count": null,
   "metadata": {
    "collapsed": false,
    "scrolled": true
   },
   "outputs": [
    {
     "name": "stdout",
     "output_type": "stream",
     "text": [
      "Tweet: @AntauriNova Election Day (@ Pierre Laclede Elem School in Saint Louis, MO w/ @wewedd @antaurinova @m62j16r19) https://www.swarmapp.com/c/af3YElUJRS1  | Location: STL, MO\n",
      "Tweet: We voted! @ Saint Louis County Election Commissioners-Board  https://www.instagram.com/p/BSPADxwBbaMYIgjtMbX8-IEbtMG9Tg8mT_Nvlo0/ … | Location: Greendale, MO\n",
      "Tweet: @AntauriNova Election Day (@ Pierre Laclede Elem School in Saint Louis, MO w/ @wewedd @antaurinova @m62j16r19) https://www.swarmapp.com/c/af3YElUJRS1  | Location: STL, MO\n",
      "Tweet: We voted! @ Saint Louis County Election Commissioners-Board  https://www.instagram.com/p/BSPADxwBbaMYIgjtMbX8-IEbtMG9Tg8mT_Nvlo0/ … | Location: Greendale, MO\n",
      "Tweet: It's the day after Election Day I'm going to St. Raymond's for lunch! A St. Louis Tradition | Location: St.Louis\n",
      "Tweet: When your future Mayor text you back at 7:20am the morning after her election #proud #dsly…  https://www.instagram.com/p/BRYPI-VF7o2/  | Location: st.louisMO\n",
      "Tweet: lydakrewsonstl wins DemocraticSTL mayoral election...#stlouismo #stlmayor #lyda #DowntownSTL…  https://www.instagram.com/p/BRXhKI2A2US/  | Location: StLouis, MO\n",
      "Tweet: @realDonaldTrump I'm reposting this from the day after the election, because @realdonaldtrump/ @NEWPOTUSTRUMP is…  https://www.instagram.com/p/BP6nzScBZkF/  | Location: StLouis, MO\n",
      "Tweet: @Ludacris Me watching Obama win the election in 2008 with @ludacris I never saw so many people cry in the…  https://www.instagram.com/p/BPHCCvOAyeQ/  | Location: St.Louis, Missouri\n",
      "Tweet: When you lose an election that you rigged yourself and start blaming others for your loss, you might be the most pathetic human currently. | Location: SaintLouis, Missouri\n",
      "Tweet: My discomfort with election results is quite conspicuous, however I'm alarmed & frightened by Trump's choice to head the EPA #Climate | Location: St.Louis\n",
      "Tweet: I feel like this is very fitting and essential post-election…  https://www.instagram.com/p/BNAPyvjgLfE6PQK61VZ3Xufl0JvQESgThOMAIg0/ … | Location: St.Louis\n",
      "Tweet: @ThePageantSTL Danced our post Election Day worries away with @porterrobinson at @thepageantstl <Emoji: Alien monster><Emoji: Comet><Emoji: Lollipop><Emoji: Musical note> @ The…  https://www.instagram.com/p/BM48JLbAIDW/  | Location: SaintLouis\n",
      "Tweet: Sitting with my brothers for our general election! We filled our pockets for the wait!!…  https://www.instagram.com/p/BM1hUpJjIO8/  | Location: Southfield, MI\n",
      "Tweet: My thoughts on last night's election results. For more, see my FB #election2016 @ Saint Louis…  https://www.instagram.com/p/BMmlqhUDD6O/  | Location: ChicagoIL\n",
      "Tweet: The 2016 election is over; the work for inclusion and equity is not. Join us. http://www.nccjstl.org/news/2016/11/9/ctard3gb7zic3f4qsqa5u2015u4wue … | Location: St.Louis, MO\n",
      "Tweet: Loki a little disappointed after hearing the election results this…  https://www.instagram.com/p/BMl4HLOgWw80so5Upmd9zPVA_6ZEb9zcLYlrFw0/ … | Location: Brooklyn, NY\n",
      "Tweet: Post #Election coverage late night then early morning #BizTravel required beverages #BloodyMary…  https://www.instagram.com/p/BMlsrG_B9OK/  | Location: St.LouisMO\n",
      "Tweet: Pretty much sums up this election for me. #upsetthesetup…  https://www.instagram.com/p/BMlY1higd9FQIUyEFfyrVHv33ERD5r-LuB5OkA0/ … | Location: Brooklyn, NY\n",
      "Tweet: #ElectionNight election is rigged highly.  Recount. Show us your taxes.  Heaven help us!!! | Location: \n",
      "Tweet: Shot of Old Grandad for voting from tallteatime is treating me right on this Election Day. @ The…  https://www.instagram.com/p/BMkX1EYh0Og/  | Location: SaintLouis, Missouri\n",
      "Tweet: Not a bad way to start the election watch party! - Drinking an Albino Pygmy Puma @ Old Dutch Hotel -  http://untp.beer/s/c380729247  | Location: KansasCity, MO\n",
      "Tweet: I did the thing. <Emoji: Flag of United States><Emoji: Flag of United States><Emoji: Flag of United States>.....#election #electionday #ivoted #vote #election2016 #president…  https://www.instagram.com/p/BMkXK7Cjj8p/  | Location: St.Louis, MO\n",
      "Tweet: Election night flag pole. Right or left, red or blue? I am no pundit or prognosticator, but I…  https://www.instagram.com/p/BMkWF9IB7CJ/  | Location: \n",
      "Tweet: I voted and I don't know about anyone else but this election felt a…  https://www.instagram.com/p/BMkREm3BIR-eJOpuwYeOYCdK-3mIkDCLIeCY8A0/ … | Location: Imperial, MO\n",
      "Tweet: Happy election day!!!! #TacosForPres <Emoji: Flag of United States><Emoji: Taco> @ Lindenwood University  https://www.instagram.com/p/BMkQ3C4AcdV/  | Location: LindenwoodUniversity\n",
      "Tweet: Election Day Smoothie! This has Cantaloupe, Orange, Mission Figs, Kale, Ice, Hemp Protein,…  https://www.instagram.com/p/BMkPEisjcIC/  | Location: UnitedStates\n",
      "Tweet: @dominos Election night dinner! (at @Dominos Pizza in Saint Ann, MO) https://www.swarmapp.com/c/1yDcvFDebhv  | Location: STLakaFlyoverCountry\n",
      "Tweet: While we're in the midst of these election results, PEEP <Emoji: Eye><Emoji: Eye> this amazing cut featuring a…  https://www.instagram.com/p/BMkGn3yBWg2/  | Location: Clayton, MO\n",
      "Tweet: Happy Election Day!!! Get out and vote if you can #election2016 #makeamericagreatagain<Emoji: Flag of United States> @ Fitz's  https://www.instagram.com/p/BMkFtSfD05m/  | Location: STL\n",
      "Tweet: Duh. I #voted today.  All I can say is that I hope this election has…  https://www.instagram.com/p/BMjgXWAASxZX1Cn6ZifxzKUFXOmXZfnZYlFwzY0/ … | Location: \n",
      "Tweet: *election caption* @ Downtown St. Louis  https://www.instagram.com/p/BMj77BigJT6/  | Location: LA//STL\n",
      "Tweet: Between the rain and the election today, there's no better time to stop in for some comforting…  https://www.instagram.com/p/BMj6DPpDc14/  | Location: Clayton, MO\n",
      "Tweet: Happy Election Day!  Go out and vote, then stop by the winery for a glass of wine (or perhaps a…  https://www.instagram.com/p/BMjzIktjqbF/  | Location: Dutzow, Missouri\n",
      "Tweet: Marley says go vote <Emoji: Face with tears of joy> I really didn't intend to buy my dog an election day outfit, but Halloween…  https://www.instagram.com/p/BMjyLrQjTbD/  | Location: \n",
      "Tweet: My boys and I #voted today. Their first presidential election, but not their last. #werewithher…  https://www.instagram.com/p/BMjxnP-h5e1/  | Location: SaintLouis, MO\n",
      "Tweet: Election day get up go vote @ Harris-Stowe State University  https://www.instagram.com/p/BMjsNADBlSM/  | Location: St.Louis, mo\n",
      "Tweet: Happy Election Day! <Emoji: Heavy red heart><Emoji: Flag of United States><Emoji: Clapping hands sign (light skin tone)><Emoji: Smiling face with open mouth><Emoji: Person with folded hands (light skin tone)> #thischristianvotes #godblessamerica #govote #2016 #2016election…  https://www.instagram.com/p/BMjoXQbhyhf/  | Location: St.Louisarea\n",
      "Tweet: My thoughts on today's election and a prayer for the nation are on the blog. Please take a…  https://www.instagram.com/p/BMjj-ZLD_hu/  | Location: StLouis, MO\n",
      "Tweet: #2016 #45th #presidential #election #election2016 on my #birthday <Emoji: Birthday cake> #decided #fate of the…  https://www.instagram.com/p/BMjhUglj-c0/  | Location: Online\n",
      "Tweet: Bagel day and you'll need to get out the frustration of election day (at @PlanetFitness in Overland, MO) https://www.swarmapp.com/c/cXpd9Mtv2xM  | Location: St.Louis, Missouri, USA\n",
      "Tweet: Election Day aquí. A rezar... | Location: StLouis, MO\n"
     ]
    }
   ],
   "source": [
    "# Configure\n",
    "c = twint.Config()\n",
    "\n",
    "# 6 months after election\n",
    "c.Since = \"2016-11-08\"\n",
    "c.Until = \"2017-05-08\"\n",
    "\n",
    "# tweets mentioning the election\n",
    "c.Search = \"election\"\n",
    "\n",
    "c.Format = \"Tweet: {tweet} | Location: {location}\"\n",
    "c.Location = True\n",
    "#la.Limit = 20\n",
    "c.Count = True\n",
    "c.Geo = '38.6530169,-90.3835475,50km'\n",
    "\n",
    "# export to csv\n",
    "c.Store_csv = True\n",
    "c.Custom_csv = [\"date\", \"user_id\", \"location\", \"tweet\"]\n",
    "c.Output = \"mo_after.csv\"\n",
    "\n",
    "# Run\n",
    "twint.Search(c)"
   ]
  },
  {
   "cell_type": "markdown",
   "metadata": {},
   "source": [
    "## Data Analysis"
   ]
  },
  {
   "cell_type": "code",
   "execution_count": null,
   "metadata": {
    "collapsed": true
   },
   "outputs": [],
   "source": []
  }
 ],
 "metadata": {
  "kernelspec": {
   "display_name": "Python 3",
   "language": "python",
   "name": "python3"
  },
  "language_info": {
   "codemirror_mode": {
    "name": "ipython",
    "version": 3
   },
   "file_extension": ".py",
   "mimetype": "text/x-python",
   "name": "python",
   "nbconvert_exporter": "python",
   "pygments_lexer": "ipython3",
   "version": "3.6.4"
  }
 },
 "nbformat": 4,
 "nbformat_minor": 2
}
